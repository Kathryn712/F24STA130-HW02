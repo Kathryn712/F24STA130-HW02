{
 "cells": [
  {
   "cell_type": "markdown",
   "id": "00839553",
   "metadata": {},
   "source": [
    "#### 3. Submit your preferred version of the Monty Hall problem that is verified to be running and working with a final printed output of the code; then, add code comments explaining the purpose of each line of the code<br>"
   ]
  },
  {
   "cell_type": "code",
   "execution_count": 1,
   "id": "a11e51e5",
   "metadata": {},
   "outputs": [
    {
     "name": "stdout",
     "output_type": "stream",
     "text": [
      "0.66773\n"
     ]
    }
   ],
   "source": [
    "import numpy as np\n",
    "\n",
    "# Constants and initial setup\n",
    "all_door_options = (1, 2, 3)  # Possible door choices\n",
    "reps = 100000  # Number of repetitions\n",
    "i_won = 0  # Counter for wins\n",
    "\n",
    "# Loop through each repetition\n",
    "for _ in range(reps):\n",
    "    secret_winning_door = np.random.choice(all_door_options)  # Randomly select the winning door\n",
    "    my_door_choice = np.random.choice(all_door_options)  # Player randomly selects a door\n",
    "    \n",
    "    # Monty reveals a goat door, which is not the player's choice or the winning door\n",
    "    remaining_doors = [door for door in all_door_options if door != my_door_choice and door != secret_winning_door]\n",
    "    monty_reveals = np.random.choice(remaining_doors)\n",
    "    \n",
    "    # Player switches to the remaining unopened door\n",
    "    remaining_doors = [door for door in all_door_options if door != my_door_choice and door != monty_reveals]\n",
    "    my_door_choice = remaining_doors[0]\n",
    "    \n",
    "    # Check if the player wins by switching\n",
    "    if my_door_choice == secret_winning_door:\n",
    "        i_won += 1\n",
    "\n",
    "# Calculate and print the win rate\n",
    "print(i_won / reps)\n"
   ]
  },
  {
   "cell_type": "markdown",
   "id": "3282dfa0",
   "metadata": {},
   "source": [
    "Session Summary:\n",
    "You started with a Monte Hall problem simulation code, asking for a simpler and more understandable version of the logic inside the for loop. The original simulation had the player always switching doors after Monty reveals a \"goat\" door. I refactored the code to make the loop clearer and easier to explain, particularly by using list comprehensions and clarifying the switching process.\n",
    "\n",
    "Key points:\n",
    "Initial Setup:\n",
    "\n",
    "Player picks a door randomly, and the winning door is also selected randomly.\n",
    "Monty reveals a losing (goat) door that is neither the player’s choice nor the winning door.\n",
    "Switching Strategy:\n",
    "\n",
    "The player always switches to the remaining unopened door.\n",
    "Results:\n",
    "\n",
    "The simulation will count how often switching leads to winning. The result should show a win rate close to 2/3, which aligns with the mathematical solution to the Monty Hall problem.\n",
    "Expected Results:\n",
    "If you run this code with reps = 100,000, you should observe that the win rate by switching is approximately 0.666 (around 66.67%), confirming that switching doors increases your chances of winning to 2/3 compared to sticking with the original choice (1/3 chance of winning)."
   ]
  },
  {
   "cell_type": "markdown",
   "id": "7a0c994e",
   "metadata": {},
   "source": [
    "#### 4. Watch the embedded video tutorial on Markov chains in the next Jupyter cell below to understand their application and relevance for ChatBots; then, after watching the video, start a new ChatBot session by prompting that you have code that creates a \"Markovian ChatBot\"; show it the first version of the \"Markovian ChatBot code\" below; and interact with the ChatBot session to make sure you understand how the original first version of the \"Markovian ChatBot code\" works<br>"
   ]
  },
  {
   "cell_type": "markdown",
   "id": "83ea51a4",
   "metadata": {},
   "source": [
    "Summary of Current Session:\n",
    "You are working on building a Markov chain-based chatbot. The code provided aims to:\n",
    "\n",
    "Track the frequency of word usage (word_used).\n",
    "Track the frequency of word transitions (next_word), where each word is followed by another word in a sequence.\n",
    "You initially used a regular Python dictionary, manually handling the cases where a word or transition didn’t exist yet. I recommended simplifying this using defaultdict from the collections module, which can automatically handle cases where entries are missing."
   ]
  },
  {
   "cell_type": "code",
   "execution_count": null,
   "id": "6129aeca",
   "metadata": {},
   "outputs": [],
   "source": [
    "from collections import defaultdict\n",
    "\n",
    "# Initialize word counters\n",
    "word_used = defaultdict(int)\n",
    "next_word = defaultdict(lambda: defaultdict(int))\n",
    "\n",
    "# List of words for the Markov chain\n",
    "words = [\"example\", \"text\", \"for\", \"the\", \"Markov\", \"chain\", \"example\", \"again\"]\n",
    "\n",
    "# Iterate through the word list and populate word_used and next_word\n",
    "for i, word in enumerate(words[:-1]):\n",
    "    word_used[word] += 1\n",
    "    next_word[word][words[i+1]] += 1\n",
    "\n",
    "# Printing the results for clarity\n",
    "print(\"Word used frequency:\")\n",
    "print(dict(word_used))\n",
    "print(\"\\nNext word frequency:\")\n",
    "print({word: dict(next_word[word]) for word in next_word})\n"
   ]
  },
  {
   "cell_type": "code",
   "execution_count": null,
   "id": "722329e8",
   "metadata": {},
   "outputs": [],
   "source": [
    "{\n",
    "    'example': 2, \n",
    "    'text': 1, \n",
    "    'for': 1, \n",
    "    'the': 1, \n",
    "    'Markov': 1, \n",
    "    'chain': 1\n",
    "}\n"
   ]
  },
  {
   "cell_type": "code",
   "execution_count": null,
   "id": "0d54a699",
   "metadata": {},
   "outputs": [],
   "source": [
    "{\n",
    "    'example': {'text': 1, 'again': 1},\n",
    "    'text': {'for': 1},\n",
    "    'for': {'the': 1},\n",
    "    'the': {'Markov': 1},\n",
    "    'Markov': {'chain': 1},\n",
    "    'chain': {'example': 1}\n",
    "}\n"
   ]
  },
  {
   "cell_type": "code",
   "execution_count": null,
   "id": "40edf0ed",
   "metadata": {},
   "outputs": [],
   "source": [
    "from collections import defaultdict\n",
    "\n",
    "word_used = defaultdict(int)\n",
    "next_word = defaultdict(lambda: defaultdict(int))\n",
    "\n",
    "for i, word in enumerate(words[:-1]):\n",
    "    word_used[word] += 1\n",
    "    next_word[word][words[i+1]] += 1"
   ]
  },
  {
   "cell_type": "markdown",
   "id": "956c6ce8",
   "metadata": {},
   "source": [
    "#### 6. Report on your experience interacting with ChatBots to understand the Monte Hall problem and \"Markovian ChatBot\" code\n",
    "\n",
    "1. Discuss how quickly the ChatBot was able to be helpful for each of the above questions, and if so, how?<br><br>\n",
    "\n",
    "2. Discuss whether or not interacting with ChatBot to try to figure things out was frustrating or unhelpful, and if so, how?<br><br>\n",
    "    \n",
    "3. Based on your experiences to date (e.g., including using ChatBots to troubleshoot coding errors in the previous homework), provide an overall assessment evaluating the usefulness of ChatBots as tools to help you understand code<br>"
   ]
  },
  {
   "cell_type": "markdown",
   "id": "384a5d9c",
   "metadata": {},
   "source": [
    "ChatBox is available to help users at any time. It is also possible to extract information from the database and give it to the user. It can also handle repetitive tasks. For example, account management and order queries. This greatly improves efficiency and avoids the problem of waiting. It also collects data and feedback via user questions. But there are ways in which chatbots are not helpful. When it comes to dealing with complex problems, it cannot provide a solution that the user is 100% satisfied with. There are also cultural differences that can lead to misunderstandings or inappropriate responses."
   ]
  },
  {
   "cell_type": "markdown",
   "id": "e11d8003",
   "metadata": {},
   "source": [
    "#### 7. Reflect on your experience interacting with ChatBot and describe how your perception of AI-driven assistance tools in the context of learning coding, statistics, and data science has been evolving (or not) since joining the course<br><br>"
   ]
  },
  {
   "cell_type": "markdown",
   "id": "38d041d1",
   "metadata": {},
   "source": [
    "In my interactive experience with the chatbot, I could see its potential in helping with learning and problem solving. It helps me understand the concepts of coding, statistics and data science more effectively. I think what works best for me is that it gives detailed answers. It allows me to better understand complex coding. Since joining the course, I have developed some ideas about AIDS for learning coding, statistics, and artificial intelligence. I'm always trying new things but I'm also skeptical. However, with the increase of using it, I found that it improved the efficiency of learning. As long as we don't rely on chatbots, we can get more learning resources through it. At the same time, this new way of learning also breaks the traditional way of learning. I think this way of learning adds an interactive experience to facilitate learning. Overall, I have a deeper understanding of AI learning."
   ]
  }
 ],
 "metadata": {
  "kernelspec": {
   "display_name": "Python 3 (ipykernel)",
   "language": "python",
   "name": "python3"
  },
  "language_info": {
   "codemirror_mode": {
    "name": "ipython",
    "version": 3
   },
   "file_extension": ".py",
   "mimetype": "text/x-python",
   "name": "python",
   "nbconvert_exporter": "python",
   "pygments_lexer": "ipython3",
   "version": "3.11.6"
  }
 },
 "nbformat": 4,
 "nbformat_minor": 5
}
